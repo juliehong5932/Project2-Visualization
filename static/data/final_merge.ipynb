{
 "cells": [
  {
   "cell_type": "code",
   "execution_count": 1,
   "metadata": {},
   "outputs": [],
   "source": [
    "import json\n",
    "from pprint import pprint"
   ]
  },
  {
   "cell_type": "code",
   "execution_count": 2,
   "metadata": {},
   "outputs": [],
   "source": [
    "with open('us_state.geojson') as us_state: \n",
    "    us_state_json=json.load(us_state)"
   ]
  },
  {
   "cell_type": "code",
   "execution_count": 3,
   "metadata": {},
   "outputs": [
    {
     "data": {
      "text/plain": [
       "'FeatureCollection'"
      ]
     },
     "execution_count": 3,
     "metadata": {},
     "output_type": "execute_result"
    }
   ],
   "source": [
    "us_state_json['type']"
   ]
  },
  {
   "cell_type": "code",
   "execution_count": 4,
   "metadata": {},
   "outputs": [],
   "source": [
    "with open('final_merged_data.json') as merged_data:\n",
    "    merged_data_json=json.load(merged_data)"
   ]
  },
  {
   "cell_type": "code",
   "execution_count": 5,
   "metadata": {},
   "outputs": [
    {
     "data": {
      "text/plain": [
       "{'NRCPTOT': 1,\n",
       " 'county': 14797010,\n",
       " 'fifteen_average': 16.3,\n",
       " 'fifteen_error': 1.9,\n",
       " 'firearms_death_rate': 21.5,\n",
       " 'homicide_rate': 8.3,\n",
       " 'household_size': 2.55,\n",
       " 'median_income': 48486,\n",
       " 'per_capita_income': 26846,\n",
       " 'percent_hs_grad': 85.8,\n",
       " 'seventeen_average': 15.6,\n",
       " 'seventeen_error': 1.6,\n",
       " 'sixteen_average': 16.0,\n",
       " 'sixteen_error': 1.5,\n",
       " 'state_code': 'Alabama',\n",
       " 'three_year_error': 1.9,\n",
       " 'total_firearm_deaths': 1046}"
      ]
     },
     "execution_count": 5,
     "metadata": {},
     "output_type": "execute_result"
    }
   ],
   "source": [
    "merged_data_json[0]"
   ]
  },
  {
   "cell_type": "code",
   "execution_count": 6,
   "metadata": {},
   "outputs": [
    {
     "name": "stdout",
     "output_type": "stream",
     "text": [
      "{'NRCPTOT': 1, 'county': 14797010, 'fifteen_average': 16.3, 'fifteen_error': 1.9, 'firearms_death_rate': 21.5, 'homicide_rate': 8.3, 'household_size': 2.55, 'median_income': 48486, 'per_capita_income': 26846, 'percent_hs_grad': 85.8, 'seventeen_average': 15.6, 'seventeen_error': 1.6, 'sixteen_average': 16.0, 'sixteen_error': 1.5, 'state_code': 'Alabama', 'three_year_error': 1.9, 'total_firearm_deaths': 1046}\n"
     ]
    }
   ],
   "source": [
    "for each_state in merged_data_json: \n",
    "    print(each_state)\n",
    "    break"
   ]
  },
  {
   "cell_type": "code",
   "execution_count": 18,
   "metadata": {},
   "outputs": [],
   "source": [
    "for each_us_state in us_state_json['features']: \n",
    "    for each_state in merged_data_json: \n",
    "        if each_state['state_code']==each_us_state['properties']['NAME']: \n",
    "            each_us_state['properties']['household_size']=each_state['household_size']"
   ]
  },
  {
   "cell_type": "code",
   "execution_count": 19,
   "metadata": {},
   "outputs": [],
   "source": [
    "for each_us_state in us_state_json['features']: \n",
    "    for each_state in merged_data_json: \n",
    "        if each_state['state_code']==each_us_state['properties']['NAME']: \n",
    "            each_us_state['properties']['median_income']=each_state['median_income']"
   ]
  },
  {
   "cell_type": "code",
   "execution_count": 20,
   "metadata": {},
   "outputs": [],
   "source": [
    "for each_us_state in us_state_json['features']: \n",
    "    for each_state in merged_data_json: \n",
    "        if each_state['state_code']==each_us_state['properties']['NAME']: \n",
    "            each_us_state['properties']['percent_hs_grad']=each_state['percent_hs_grad']"
   ]
  },
  {
   "cell_type": "code",
   "execution_count": 21,
   "metadata": {},
   "outputs": [],
   "source": [
    "for each_us_state in us_state_json['features']: \n",
    "    for each_state in merged_data_json: \n",
    "        if each_state['state_code']==each_us_state['properties']['NAME']: \n",
    "            each_us_state['properties']['firearms_death_rate']=each_state['firearms_death_rate']"
   ]
  },
  {
   "cell_type": "code",
   "execution_count": 22,
   "metadata": {},
   "outputs": [],
   "source": [
    "for each_us_state in us_state_json['features']: \n",
    "    for each_state in merged_data_json: \n",
    "        if each_state['state_code']==each_us_state['properties']['NAME']: \n",
    "            each_us_state['properties']['per_capita_income']=each_state['per_capita_income']"
   ]
  },
  {
   "cell_type": "code",
   "execution_count": 23,
   "metadata": {},
   "outputs": [
    {
     "data": {
      "text/plain": [
       "{'GEO_ID': '0400000US23',\n",
       " 'STATE': '23',\n",
       " 'NAME': 'Maine',\n",
       " 'LSAD': '',\n",
       " 'CENSUSAREA': 30842.923,\n",
       " 'household_size': 2.33,\n",
       " 'median_income': 55425,\n",
       " 'percent_hs_grad': 92.3,\n",
       " 'firearms_death_rate': 8.3,\n",
       " 'per_capita_income': 31253}"
      ]
     },
     "execution_count": 23,
     "metadata": {},
     "output_type": "execute_result"
    }
   ],
   "source": [
    "us_state_json['features'][0]['properties']"
   ]
  },
  {
   "cell_type": "code",
   "execution_count": 24,
   "metadata": {},
   "outputs": [],
   "source": [
    "with open('merged_state_data', 'w') as json_file:\n",
    "  json.dump(us_state_json, json_file)"
   ]
  },
  {
   "cell_type": "code",
   "execution_count": null,
   "metadata": {},
   "outputs": [],
   "source": []
  }
 ],
 "metadata": {
  "kernelspec": {
   "display_name": "Python 3",
   "language": "python",
   "name": "python3"
  },
  "language_info": {
   "codemirror_mode": {
    "name": "ipython",
    "version": 3
   },
   "file_extension": ".py",
   "mimetype": "text/x-python",
   "name": "python",
   "nbconvert_exporter": "python",
   "pygments_lexer": "ipython3",
   "version": "3.7.6"
  }
 },
 "nbformat": 4,
 "nbformat_minor": 4
}
