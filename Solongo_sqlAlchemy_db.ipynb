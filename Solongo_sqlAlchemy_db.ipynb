{
 "cells": [
  {
   "cell_type": "code",
   "execution_count": 1,
   "metadata": {},
   "outputs": [],
   "source": [
    "# Import Dependencies\n",
    "from sqlalchemy import create_engine\n",
    "from sqlalchemy.ext.declarative import declarative_base\n",
    "Base = declarative_base()\n",
    "import pandas as pd"
   ]
  },
  {
   "cell_type": "code",
   "execution_count": 2,
   "metadata": {},
   "outputs": [],
   "source": [
    "import sqlalchemy\n",
    "from sqlalchemy.ext.automap import automap_base\n",
    "from sqlalchemy.orm import Session\n",
    "from sqlalchemy import create_engine, inspect"
   ]
  },
  {
   "cell_type": "code",
   "execution_count": 3,
   "metadata": {},
   "outputs": [],
   "source": [
    "from sqlalchemy import Column, Integer, String, Float"
   ]
  },
  {
   "cell_type": "code",
   "execution_count": 5,
   "metadata": {},
   "outputs": [],
   "source": [
    "# Create Database Connection\n",
    "database_path = \"project2.sqlite\"\n",
    "engine = create_engine(f\"sqlite:///{database_path}\")\n",
    "conn = engine.connect()"
   ]
  },
  {
   "cell_type": "code",
   "execution_count": 6,
   "metadata": {},
   "outputs": [],
   "source": [
    "# Solongo's data table \n",
    "class grad_capital_income(Base):\n",
    "    __tablename__ = \"state_table\"\n",
    "    state_code = Column(String, primary_key=True)\n",
    "    percent_hs_grad = Column(Float)\n",
    "    per_capita_income = Column(Integer)"
   ]
  },
  {
   "cell_type": "code",
   "execution_count": 7,
   "metadata": {},
   "outputs": [],
   "source": [
    "# Liz's data table \n",
    "class crime(Base):\n",
    "    __tablename__ = \"crime_table\"\n",
    "    state_code = Column(String, primary_key=True)\n",
    "    homicide_rate = Column(Float)\n",
    "    firearms_death_rate = Column(Float)\n",
    "    total_firearm_deaths = Column(Integer)   "
   ]
  },
  {
   "cell_type": "code",
   "execution_count": 8,
   "metadata": {},
   "outputs": [],
   "source": [
    "# Liz's poverty data table\n",
    "class poverty(Base):\n",
    "    __tablename__ = \"poverty_table\"\n",
    "    state_code = Column(String, primary_key=True)\n",
    "    sixteen_average = Column(Float)\n",
    "    sixteen_error  = Column(Float)\n",
    "    fifteen_average  = Column(Float)\n",
    "    fifteen_error  = Column(Float)\n",
    "    seventeen_average  = Column(Float)\n",
    "    seventeen_error  = Column(Float)\n",
    "    three_year_error  = Column(Float)"
   ]
  },
  {
   "cell_type": "code",
   "execution_count": 9,
   "metadata": {},
   "outputs": [],
   "source": [
    "# Create the table Jule's data table \n",
    "class household(Base):\n",
    "    __tablename__ = \"household_table\"\n",
    "    state_code = Column(String, primary_key=True)\n",
    "    household_size = Column(Float)\n",
    "    median_income = Column(Integer)"
   ]
  },
  {
   "cell_type": "code",
   "execution_count": 10,
   "metadata": {},
   "outputs": [],
   "source": [
    "# Create the table Whitney's data table \n",
    "class nonemp(Base):\n",
    "    __tablename__ = \"nonemp\"\n",
    "    state_code = Column(String, primary_key=True)\n",
    "    county = Column(Integer)\n",
    "    NRCPTOT = Column(Integer)"
   ]
  },
  {
   "cell_type": "code",
   "execution_count": 12,
   "metadata": {},
   "outputs": [],
   "source": [
    "# Create a session\n",
    "session = Session(bind=engine)"
   ]
  },
  {
   "cell_type": "code",
   "execution_count": 13,
   "metadata": {},
   "outputs": [],
   "source": [
    "# Create a \"Metadata\" Layer That Abstracts our SQL Database\n",
    "Base.metadata.create_all(engine)"
   ]
  },
  {
   "cell_type": "code",
   "execution_count": 14,
   "metadata": {},
   "outputs": [],
   "source": [
    "# reflect an existing database into a new model\n",
    "Base = automap_base()\n",
    "\n",
    "# reflect the tables\n",
    "Base.prepare(engine, reflect=True)"
   ]
  },
  {
   "cell_type": "code",
   "execution_count": 15,
   "metadata": {},
   "outputs": [
    {
     "data": {
      "text/plain": [
       "['crime_table', 'household_table', 'nonemp', 'poverty_table', 'state_table']"
      ]
     },
     "execution_count": 15,
     "metadata": {},
     "output_type": "execute_result"
    }
   ],
   "source": [
    "# view all the classes that automap found\n",
    "Base.classes.keys()"
   ]
  },
  {
   "cell_type": "code",
   "execution_count": 20,
   "metadata": {},
   "outputs": [],
   "source": [
    "crime_table = Base.classes.crime_table\n",
    "household_table = Base.classes.household_table\n",
    "nonemp = Base.classes.nonemp\n",
    "poverty_table = Base.classes.poverty_table\n",
    "state_table = Base.classes.state_table"
   ]
  },
  {
   "cell_type": "code",
   "execution_count": 21,
   "metadata": {},
   "outputs": [],
   "source": [
    "# create our session (link) from Python to the DB\n",
    "session = Session(engine)"
   ]
  },
  {
   "cell_type": "code",
   "execution_count": 22,
   "metadata": {
    "scrolled": true
   },
   "outputs": [
    {
     "name": "stdout",
     "output_type": "stream",
     "text": [
      "\u001b[1m\n",
      "state_table\u001b[0m\n",
      "state_code VARCHAR\n",
      "percent_hs_grad FLOAT\n",
      "per_capita_income INTEGER\n",
      "\u001b[1mcrime_table\u001b[0m\n",
      "state_code VARCHAR\n",
      "homicide_rate FLOAT\n",
      "firearms_death_rate FLOAT\n",
      "total_firearm_deaths INTEGER\n",
      "\u001b[1mpoverty_table1\u001b[0m\n",
      "state_code VARCHAR\n",
      "sixteen_average FLOAT\n",
      "sixteen_error FLOAT\n",
      "fifteen_average FLOAT\n",
      "fifteen_error FLOAT\n",
      "seventeen_average FLOAT\n",
      "seventeen_error FLOAT\n",
      "three_year_error FLOAT\n",
      "\u001b[1mhousehold_table\u001b[0m\n",
      "state_code VARCHAR\n",
      "household_size FLOAT\n",
      "median_income INTEGER\n",
      "\u001b[1mnonemp\u001b[0m\n",
      "state_code VARCHAR\n",
      "county INTEGER\n",
      "NRCPTOT INTEGER\n"
     ]
    }
   ],
   "source": [
    "# A Inspector object \n",
    "inspector = inspect(engine)\n",
    "# -----------------------------------------------------------\n",
    "\n",
    "# Define fonts \n",
    "class color:\n",
    "    BOLD = '\\033[1m'\n",
    "    END = '\\033[0m'\n",
    "# -----------------------------------------------------------    \n",
    "\n",
    "# check how tables structured and described state table\n",
    "state = inspector.get_columns('state_table')\n",
    "print(color.BOLD + '\\nstate_table' + color.END)\n",
    "\n",
    "for c in state:\n",
    "    print(c['name'], c['type'])\n",
    "\n",
    "# -----------------------------------------------------------    \n",
    "# check how tables structured and described state crime\n",
    "crime = inspector.get_columns('crime_table')\n",
    "print(color.BOLD + 'crime_table' + color.END)\n",
    "for c in crime:\n",
    "    print(c['name'], c['type'])  \n",
    "    \n",
    "# -----------------------------------------------------------  \n",
    "# check how tables structured and described state poverty \n",
    "poverty  = inspector.get_columns('poverty_table')\n",
    "print(color.BOLD + 'poverty_table1' + color.END)\n",
    "for c in poverty:\n",
    "    print(c['name'], c['type'])\n",
    "\n",
    "# -----------------------------------------------------------  \n",
    "# check how tables structured and described state household \n",
    "\n",
    "household  = inspector.get_columns('household_table')\n",
    "print(color.BOLD + 'household_table' + color.END)\n",
    "for c in household:\n",
    "    print(c['name'], c['type'])\n",
    "\n",
    "# -----------------------------------------------------------  \n",
    "# check how tables structured and described state household \n",
    "nonemp1 = inspector.get_columns('nonemp')\n",
    "print(color.BOLD + 'nonemp' + color.END)\n",
    "for c in nonemp1:\n",
    "    print(c['name'], c['type'])"
   ]
  },
  {
   "cell_type": "markdown",
   "metadata": {},
   "source": [
    "## Insert data\n"
   ]
  },
  {
   "cell_type": "code",
   "execution_count": 25,
   "metadata": {},
   "outputs": [
    {
     "name": "stdout",
     "output_type": "stream",
     "text": [
      "Source CSV: 51 records\n",
      "Table: 51 records\n"
     ]
    }
   ],
   "source": [
    "# Load state data from csv\n",
    "state_data = pd.read_csv(\"data/state_table.csv\")\n",
    "state_data=state_data.values.tolist()\n",
    "\n",
    "# delete existing data so we can re-populate it\n",
    "conn.execute(\"delete from state_table\")\n",
    "\n",
    "# insert rows\n",
    "for row in state_data:\n",
    "    conn.execute(f\"\"\"\n",
    "    insert into state_table (state_code, percent_hs_grad, per_capita_income) \n",
    "    values ('{row[0]}', {row[1]}, {row[2]})\n",
    "\"\"\")\n",
    "    \n",
    "# validate count\n",
    "state_table_data = session.query(state_table).all()\n",
    "\n",
    "print(f\"Source CSV: {len(state_data)} records\")\n",
    "print(f\"Table: {len(state_table_data)} records\")\n",
    "\n"
   ]
  },
  {
   "cell_type": "code",
   "execution_count": 26,
   "metadata": {},
   "outputs": [
    {
     "name": "stdout",
     "output_type": "stream",
     "text": [
      "State,Homicide Rate,Firearms Death Rate,Total Firearm Deaths\n",
      "Louisiana,12.4,21.3,987\n",
      "Missouri,9.8,19.0,1144\n",
      "Nevada,9.1,16.8,498\n",
      "Maryland,9.0,11.9,707\n",
      "Arkansas,8.6,17.8,541\n",
      "Alaska,8.4,23.3,177\n",
      "Alabama,8.3,21.5,1046\n",
      "Mississippi,8.2,19.9,587\n",
      "Tennessee,7.8,17.1,1148\n",
      "Source CSV: 50 records\n",
      "Table: 50 records\n"
     ]
    }
   ],
   "source": [
    "# Load crime data\n",
    "! head data/crime_table.csv\n",
    "\n",
    "\n",
    "# Load crime data from csv\n",
    "crime_data = pd.read_csv(\"data/crime_table.csv\")\n",
    "crime_data = crime_data.values.tolist()\n",
    "\n",
    "# delete existing data so we can re-populate it\n",
    "conn.execute(\"delete from crime_table\")\n",
    "\n",
    "# insert rows\n",
    "for row in crime_data:    \n",
    "    conn.execute(f\"\"\"\n",
    "    insert into crime_table (state_code, homicide_rate, firearms_death_rate, total_firearm_deaths) \n",
    "    values ('{row[0]}', {row[1]}, {row[2]}, {row[3]})\n",
    "\"\"\")\n",
    "    \n",
    "# validate count\n",
    "crime_table_data = session.query(crime_table).all()\n",
    "\n",
    "print(f\"Source CSV: {len(crime_data)} records\")\n",
    "print(f\"Table: {len(crime_table_data)} records\")"
   ]
  },
  {
   "cell_type": "code",
   "execution_count": 27,
   "metadata": {},
   "outputs": [
    {
     "name": "stdout",
     "output_type": "stream",
     "text": [
      "state_code,household_size,median_income\r",
      "\r\n",
      "Alabama,2.55,48486\r",
      "\r\n",
      "Alaska,2.81,76715\r",
      "\r\n",
      "Arizona,2.69,56213\r",
      "\r\n",
      "Arkansas,2.52,45726\r",
      "\r\n",
      "California,2.96,71228\r",
      "\r\n",
      "Colorado,2.56,68811\r",
      "\r\n",
      "Connecticut,2.54,76106\r",
      "\r\n",
      "Delaware,2.58,65627\r",
      "\r\n",
      "District of Columbia,2.29,82604\r",
      "\r\n"
     ]
    }
   ],
   "source": [
    "# Load household data\n",
    "! head data/household_table.csv\n",
    "\n",
    "\n",
    "# Load household data from csv\n",
    "household_data = pd.read_csv(\"data/household_table.csv\")\n",
    "household_data = household_data.values.tolist()\n",
    "\n",
    "# delete existing data so we can re-populate it\n",
    "conn.execute(\"delete from household_table\")\n",
    "\n",
    "# insert rows\n",
    "for row in household_data:    \n",
    "    conn.execute(f\"\"\"\n",
    "    insert into household_table (state_code, household_size, median_income) \n",
    "    values ('{row[0]}', {row[1]}, {row[2]})\n",
    "\"\"\")\n",
    "    \n",
    "#validate count\n",
    "# household_table_data = session.query(household_table).all()\n",
    "\n",
    "# print(f\"Source CSV: {len(household_data)} records\")\n",
    "# print(f\"Table: {len(household_table_data)} records\")"
   ]
  },
  {
   "cell_type": "code",
   "execution_count": 38,
   "metadata": {},
   "outputs": [
    {
     "name": "stdout",
     "output_type": "stream",
     "text": [
      "state_code,sixteen_average,sixteen_error,fifteen_average,fifteen_error,seventeen_average,seventeen_error,three_year_error\n",
      "Alabama,16,1.5,16.3,1.9,15.6,1.6,1.9\n",
      "Alaska,12.2,1.8,10.9,1.6,12.6,1.6,2\n",
      "Arizona,14.4,1.6,16.6,1.5,13.2,1.8,2\n",
      "Arkansas  ,15.5,1.1,16.1,1.1,15.4,1.4,1.8\n",
      "California,12.5,0.5,13.9,0.6,12,0.6,0.8\n",
      "Colorado,8.9,0.9,9.2,1.4,9,1.1,1.7\n",
      "Connecticut,9.9,1.3,9.5,1.4,10.4,1.4,1.8\n",
      "Delaware,9.6,1.1,11.3,1.4,8.1,1.2,1.8\n",
      "District of Columbia,14.9,1.1,16.5,1.3,14.3,1.2,1.7\n",
      "Source CSV: 51 records\n",
      "Table: 50 records\n"
     ]
    }
   ],
   "source": [
    "# Load poverty data\n",
    "! head data/poverty_table.csv\n",
    "\n",
    "\n",
    "# Load poverty data from csv\n",
    "poverty_data = pd.read_csv(\"data/poverty_table.csv\")\n",
    "poverty_data = poverty_data.values.tolist()\n",
    "#for item in poverty_data:\n",
    "#    print(poverty_data)\n",
    "\n",
    "#  delete existing data so we can re-populate it\n",
    "conn.execute(\"delete from poverty_table\")\n",
    "\n",
    "# insert rows\n",
    "for row in poverty_data:\n",
    "    sql = f\"\"\"\n",
    "    insert into poverty_table (state_code, sixteen_average, sixteen_error, fifteen_average, \n",
    "                                fifteen_error, seventeen_average, seventeen_error, three_year_error) \n",
    "    values ('{row[0]}', {row[1]}, {row[2]}, {row[3]}, {row[4]}, {row[5]}, {row[6]}, {row[7]})\n",
    "\"\"\"\n",
    "    # print(sql)\n",
    "    conn.execute(sql)\n",
    "    \n",
    "#validate count\n",
    "poverty_table_data = session.query(poverty_table).all()\n",
    "print(f\"Source CSV: {len(poverty_data)} records\")\n",
    "print(f\"Table: {len(poverty_table_data)} records\")"
   ]
  },
  {
   "cell_type": "code",
   "execution_count": 42,
   "metadata": {
    "scrolled": true
   },
   "outputs": [
    {
     "name": "stdout",
     "output_type": "stream",
     "text": [
      "[['Alabama', 14797010, 1], ['Alaska', 2793758, 3], ['Arizona', 23719079, 5], ['Arkansas', 9171935, 7], ['California', 189304472, 9], ['Colorado', 26587439, 11], ['Connecticut', 17158882, 13], ['Delaware', 4504805, 15], ['District of Columbia', 3285371, 17], ['Florida', 106471353, 19], ['Georgia', 39863068, 21], ['Hawaii', 5556071, 23], ['Idaho', 6336347, 25], ['Illinois', 44899268, 27], ['Indiana', 18127016, 29], ['Iowa', 9723702, 31], ['Kansas', 9509771, 33], ['Kentucky', 13198632, 35], ['Louisiana', 16923596, 37], ['Maine', 5468972, 39], ['Maryland', 23049084, 41], ['Massachusetts', 30907061, 43], ['Michigan', 32700692, 45], ['Minnesota', 19994802, 47], ['Mississippi', 9164153, 49], ['Missouri', 19463359, 51], ['Montana', 4414875, 53], ['Nebraska', 6305787, 55], ['Nevada', 12646359, 57], ['New  Hampshire', 6435512, 59], ['New Jersey', 44074085, 61], ['New Mexico', 5271452, 63], ['New York', 98252114, 65], ['North Carolina', 34400859, 67], ['North Dakota', 2948272, 69], ['Ohio', 36988617, 71], ['Oklahoma', 13907089, 73], ['Oregon', 14894376, 75], ['Pennsylvania', 42770560, 77], ['Rhode Island', 3887045, 79], ['South Carolina', 16173965, 81], ['South Dakota', 3338990, 83], ['Tennessee', 26244055, 85], ['Texas', 125732770, 87], ['Utah', 11761116, 89], ['Vermont', 2727207, 91], ['Virginia', 28429351, 93], ['Washington', 25002738, 95], ['West Virgina', 3467376, 97], ['Wisconsin', 17333494, 99], ['Wyoming', 2778948, 101]]\n",
      "Source CSV: 51 records\n",
      "Table: 51 records\n"
     ]
    }
   ],
   "source": [
    "# Load household data\n",
    "#! head data/nonemp.csv\n",
    "\n",
    "\n",
    "# Load household data from csv\n",
    "nonemp_data = pd.read_csv(\"data/nonemp.csv\")\n",
    "nonemp_data = nonemp_data.values.tolist()\n",
    "\n",
    "print(nonemp_data)\n",
    "\n",
    "# # delete existing data so we can re-populate it\n",
    "conn.execute(\"delete from nonemp\")\n",
    "\n",
    "# nonemp1\n",
    "# state_code VARCHAR\n",
    "# county INTEGER\n",
    "# NRCPTOT INTEGER\n",
    "\n",
    "\n",
    "# insert rows\n",
    "for row in nonemp_data:    \n",
    "    conn.execute(f\"\"\"\n",
    "    insert into nonemp (state_code, county, NRCPTOT) \n",
    "    values ('{row[0]}', {row[1]}, {row[2]})\n",
    "\"\"\")\n",
    "    \n",
    "#validate count\n",
    "nonemp_table_data = session.query(nonemp).all()\n",
    "\n",
    "print(f\"Source CSV: {len(nonemp_data)} records\")\n",
    "print(f\"Table: {len(nonemp_table_data)} records\")"
   ]
  },
  {
   "cell_type": "code",
   "execution_count": 44,
   "metadata": {
    "scrolled": true
   },
   "outputs": [
    {
     "data": {
      "text/plain": [
       "[<sqlalchemy.ext.automap.nonemp at 0x7fbde0bff350>,\n",
       " <sqlalchemy.ext.automap.nonemp at 0x7fbde0bff410>,\n",
       " <sqlalchemy.ext.automap.nonemp at 0x7fbde0bff490>,\n",
       " <sqlalchemy.ext.automap.nonemp at 0x7fbde0bff510>,\n",
       " <sqlalchemy.ext.automap.nonemp at 0x7fbde0bff590>,\n",
       " <sqlalchemy.ext.automap.nonemp at 0x7fbde0bff690>,\n",
       " <sqlalchemy.ext.automap.nonemp at 0x7fbde0bff750>,\n",
       " <sqlalchemy.ext.automap.nonemp at 0x7fbde0bff810>,\n",
       " <sqlalchemy.ext.automap.nonemp at 0x7fbde0bff8d0>,\n",
       " <sqlalchemy.ext.automap.nonemp at 0x7fbde0bff950>,\n",
       " <sqlalchemy.ext.automap.nonemp at 0x7fbde0bffa10>,\n",
       " <sqlalchemy.ext.automap.nonemp at 0x7fbde0bffad0>,\n",
       " <sqlalchemy.ext.automap.nonemp at 0x7fbde0bffb90>,\n",
       " <sqlalchemy.ext.automap.nonemp at 0x7fbde0bffc50>,\n",
       " <sqlalchemy.ext.automap.nonemp at 0x7fbde0bffd10>,\n",
       " <sqlalchemy.ext.automap.nonemp at 0x7fbde0bffdd0>,\n",
       " <sqlalchemy.ext.automap.nonemp at 0x7fbde0bffe90>,\n",
       " <sqlalchemy.ext.automap.nonemp at 0x7fbde0bfff50>,\n",
       " <sqlalchemy.ext.automap.nonemp at 0x7fbde0bee050>,\n",
       " <sqlalchemy.ext.automap.nonemp at 0x7fbde0bee110>,\n",
       " <sqlalchemy.ext.automap.nonemp at 0x7fbde0bee1d0>,\n",
       " <sqlalchemy.ext.automap.nonemp at 0x7fbde0bee290>,\n",
       " <sqlalchemy.ext.automap.nonemp at 0x7fbde0bee350>,\n",
       " <sqlalchemy.ext.automap.nonemp at 0x7fbde0bee410>,\n",
       " <sqlalchemy.ext.automap.nonemp at 0x7fbde0bee4d0>,\n",
       " <sqlalchemy.ext.automap.nonemp at 0x7fbde0bee590>,\n",
       " <sqlalchemy.ext.automap.nonemp at 0x7fbde0bee650>,\n",
       " <sqlalchemy.ext.automap.nonemp at 0x7fbde0bee710>,\n",
       " <sqlalchemy.ext.automap.nonemp at 0x7fbde0bee7d0>,\n",
       " <sqlalchemy.ext.automap.nonemp at 0x7fbde0bee890>,\n",
       " <sqlalchemy.ext.automap.nonemp at 0x7fbde0bee950>,\n",
       " <sqlalchemy.ext.automap.nonemp at 0x7fbde0beea10>,\n",
       " <sqlalchemy.ext.automap.nonemp at 0x7fbde0beead0>,\n",
       " <sqlalchemy.ext.automap.nonemp at 0x7fbde0beeb90>,\n",
       " <sqlalchemy.ext.automap.nonemp at 0x7fbde0beec50>,\n",
       " <sqlalchemy.ext.automap.nonemp at 0x7fbde0beed10>,\n",
       " <sqlalchemy.ext.automap.nonemp at 0x7fbde0beedd0>,\n",
       " <sqlalchemy.ext.automap.nonemp at 0x7fbde0beee90>,\n",
       " <sqlalchemy.ext.automap.nonemp at 0x7fbde0beef50>,\n",
       " <sqlalchemy.ext.automap.nonemp at 0x7fbde0be0050>,\n",
       " <sqlalchemy.ext.automap.nonemp at 0x7fbde0be0110>,\n",
       " <sqlalchemy.ext.automap.nonemp at 0x7fbde0be01d0>,\n",
       " <sqlalchemy.ext.automap.nonemp at 0x7fbde0be0290>,\n",
       " <sqlalchemy.ext.automap.nonemp at 0x7fbde0be0350>,\n",
       " <sqlalchemy.ext.automap.nonemp at 0x7fbde0be0410>,\n",
       " <sqlalchemy.ext.automap.nonemp at 0x7fbde0be04d0>,\n",
       " <sqlalchemy.ext.automap.nonemp at 0x7fbde0be0590>,\n",
       " <sqlalchemy.ext.automap.nonemp at 0x7fbde0be0650>,\n",
       " <sqlalchemy.ext.automap.nonemp at 0x7fbde0be0710>,\n",
       " <sqlalchemy.ext.automap.nonemp at 0x7fbde0be07d0>,\n",
       " <sqlalchemy.ext.automap.nonemp at 0x7fbde0b6b150>]"
      ]
     },
     "execution_count": 44,
     "metadata": {},
     "output_type": "execute_result"
    }
   ],
   "source": [
    "#session.query(nonemp).all()"
   ]
  },
  {
   "cell_type": "code",
   "execution_count": 46,
   "metadata": {},
   "outputs": [
    {
     "name": "stdout",
     "output_type": "stream",
     "text": [
      "[('Alabama', 85.8, 26846, 8.3, 21.5, 1046, 2.55, 48486, 16.0, 1.5, 16.3, 1.9, 15.6, 1.6, 1.9, 14797010, 1), ('Alaska', 92.7, 35874, 8.4, 23.3, 177, 2.81, 76715, 12.2, 1.8, 10.9, 1.6, 12.6, 1.6, 2.0, 2793758, 3), ('Arizona', 86.8, 29265, 5.9, 15.2, 1094, 2.69, 56213, 14.4, 1.6, 16.6, 1.5, 13.2, 1.8, 2.0, 23719079, 5), ('Arkansas', 86.2, 25635, 8.6, 17.8, 541, 2.52, 45726, None, None, None, None, None, None, None, 9171935, 7), ('California', 82.9, 35021, 4.6, 7.9, 3184, 2.96, 71228, 12.5, 0.5, 13.9, 0.6, 12.0, 0.6, 0.8, 189304472, 9), ('Colorado', 91.4, 36415, 3.9, 14.3, 812, 2.56, 68811, 8.9, 0.9, 9.2, 1.4, 9.0, 1.1, 1.7, 26587439, 11), ('Connecticut', 90.5, 43056, 2.8, 4.6, 172, 2.54, 76106, 9.9, 1.3, 9.5, 1.4, 10.4, 1.4, 1.8, 17158882, 13), ('Delaware', 89.8, 33989, 5.6, 11.0, 111, 2.58, 65627, 9.6, 1.1, 11.3, 1.4, 8.1, 1.2, 1.8, 4504805, 15), ('District of Columbia', 90.6, 53321, None, None, None, 2.29, 82604, 14.9, 1.1, 16.5, 1.3, 14.3, 1.2, 1.7, 3285371, 17), ('Florida', 88.0, 30197, 5.0, 12.6, 2704, 2.65, 53267, 13.6, 0.9, 14.6, 0.9, 13.5, 1.2, 1.1, 106471353, 19), ('Georgia', 86.7, 29523, 6.7, 15.0, 1571, 2.71, 55679, 14.7, 1.1, 16.8, 1.4, 14.0, 1.3, 1.9, 39863068, 21), ('Hawaii', 91.8, 34035, 2.7, 4.5, 66, 3.02, 78084, 9.5, 1.2, 10.1, 1.3, 9.9, 1.4, 1.7, 5556071, 23), ('Idaho', 90.6, 26772, 1.9, 14.6, 242, 2.68, 53089, 11.3, 1.2, 11.7, 1.3, 11.5, 1.5, 2.1, 6336347, 25), ('Illinois', 88.9, 34463, 7.8, 11.7, 1490, 2.59, 63575, 10.9, 1.0, 11.5, 1.0, 10.9, 1.2, 1.5, 44899268, 27), ('Indiana', 88.6, 28461, 6.0, 15.0, 997, 2.53, 54325, 11.8, 1.1, 12.7, 1.2, 11.6, 1.3, 1.8, 18127016, 29), ('Iowa', 92.0, 31085, 3.3, 9.2, 288, 2.41, 58580, 9.2, 1.1, 10.1, 1.2, 8.2, 1.3, 1.3, 9723702, 31), ('Kansas', 90.7, 30757, 5.5, 13.4, 383, 2.52, 57422, 10.8, 1.3, 12.7, 1.5, 10.9, 1.6, 1.9, 9509771, 33), ('Kentucky', 85.7, 26948, 5.9, 17.5, 772, 2.49, 48392, 15.3, 1.5, 17.4, 1.7, 14.6, 1.9, 2.6, 13198632, 35), ('Louisiana', 84.8, 27027, 12.4, 21.3, 987, 2.61, 47942, 19.8, 1.0, 19.4, 1.4, 19.8, 1.3, 1.6, 16923596, 37), ('Maine', 92.3, 31253, 1.7, 8.3, 123, 2.33, 55425, 12.6, 1.7, 12.5, 1.9, 12.0, 1.9, 2.2, 5468972, 39), ('Maryland', 90.0, 40517, 9.0, 11.9, 707, 2.67, 81868, 7.1, 0.9, 8.4, 1.1, 7.8, 1.1, 1.6, 23049084, 41), ('Massachusetts', 90.4, 41794, 2.5, 3.4, 242, 2.53, 77378, 9.8, 1.0, 10.6, 1.1, 10.0, 1.2, 1.5, 30907061, 43), ('Michigan', 90.5, 30336, 5.7, 12.3, 1230, 2.49, 54938, 11.0, 0.9, 11.9, 1.1, 11.0, 1.0, 1.4, 32700692, 45), ('Minnesota', 93.0, 36245, 2.0, 7.6, 432, 2.49, 68411, 8.7, 1.2, 8.2, 1.3, 8.2, 1.3, 1.4, 19994802, 47), ('Mississippi', 83.9, 23434, 8.2, 19.9, 587, 2.62, 43567, 19.8, 1.2, 20.1, 1.8, 19.0, 1.2, 2.2, 9164153, 49), ('Missouri', 89.6, 29537, 9.8, 19.0, 1144, 2.47, 53560, 11.9, 1.5, 11.4, 1.6, 11.9, 1.8, 1.8, 19463359, 51), ('Montana', 93.2, 29765, 3.9, 18.9, 194, 2.39, 52559, 10.4, 1.3, 11.8, 1.5, 10.3, 1.5, 1.2, 4414875, 53), ('Nebraska', 91.1, 31101, 2.2, 9.1, 171, 2.46, 59116, 10.4, 1.4, 9.9, 1.2, 11.0, 1.8, 2.4, 6305787, 55), ('Nevada', 86.3, 29961, 9.1, 16.8, 498, 2.68, 57598, 12.2, 1.3, 11.5, 1.4, 13.1, 1.5, 2.1, 12646359, 57), ('New Hampshire', 92.9, 38548, 1.0, 9.3, 132, 2.46, 74057, 6.4, 0.8, 6.8, 1.1, 6.6, 1.0, 1.4, None, None), ('New Jersey', 89.5, 40895, 3.6, 5.5, 485, 2.71, 79363, 9.1, 0.9, 10.3, 1.2, 9.1, 1.1, 1.7, 44074085, 61), ('New Mexico', 85.3, 26085, 7.1, 18.1, 383, 2.64, 48059, 18.7, 2.0, 18.7, 2.2, 18.2, 1.9, 1.6, 5271452, 63), ('New York', 86.5, 37470, 2.8, 4.4, 900, 2.6, 65323, 11.8, 0.7, 13.1, 0.8, 11.9, 0.8, 1.1, 98252114, 65), ('North Carolina', 87.4, 29456, 5.8, 13.7, 1409, 2.52, 52413, 14.1, 1.0, 14.4, 1.2, 14.1, 1.3, 1.6, 34400859, 67), ('North Dakota', 92.5, 35373, 1.3, 11.9, 90, 2.31, 63473, 10.9, 1.4, 10.9, 1.9, 11.1, 1.6, 2.0, 2948272, 69), ('Ohio', 90.1, 30304, 6.1, 12.9, 1524, 2.43, 54533, 12.8, 0.9, 13.6, 1.0, 12.4, 1.2, 1.7, 36988617, 71), ('Oklahoma', 87.8, 27432, 6.2, 19.6, 766, 2.58, 51424, 14.0, 1.9, 14.4, 2.0, 13.1, 1.6, 1.8, 13907089, 73), ('Oregon', 90.4, 32045, 2.5, 11.9, 513, 2.51, 59393, 10.6, 1.6, 11.8, 2.0, 10.6, 1.6, 1.8, 14894376, 75), ('Pennsylvania', 90.2, 32889, 5.8, 12.0, 1555, 2.46, 59445, 11.5, 0.9, 11.7, 1.0, 11.4, 1.1, 1.3, 42770560, 77), ('Rhode Island', 88.0, 34619, 1.9, 4.1, 49, 2.47, 63296, 10.3, 1.6, 11.6, 1.8, 10.1, 1.9, 2.6, 3887045, 79), ('South Carolina', 87.1, 27986, 7.8, 17.7, 891, 2.54, 51015, 14.1, 1.3, 14.2, 1.4, 14.0, 1.3, 1.6, 16173965, 81), ('South Dakota', 91.7, 29801, 2.9, 13.4, 108, 2.43, 56499, 11.8, 1.9, 14.2, 1.8, 10.7, 1.8, 1.8, 3338990, 83), ('Tennessee', 87.0, 28511, 7.8, 17.1, 1148, 2.53, 50972, 12.6, 1.4, 14.8, 1.5, 11.7, 1.2, 1.6, 26244055, 85), ('Texas', 83.2, 30143, 5.0, 12.1, 3353, 2.86, 59570, 13.7, 0.7, 14.3, 0.9, 13.4, 0.8, 1.1, 125732770, 87), ('Utah', 92.0, 28239, 2.4, 12.9, 370, 3.13, 68374, 7.9, 1.3, 8.9, 1.3, 7.8, 1.4, 1.5, 11761116, 89), ('Vermont', 92.6, 33238, 2.2, 11.1, 78, 2.31, 60076, 9.6, 1.1, 10.2, 1.3, 9.2, 1.2, 1.6, 2727207, 91), ('Virginia', 89.3, 37763, 5.3, 12.1, 1049, 2.61, 71564, 10.7, 1.0, 11.1, 1.3, 10.1, 1.1, 1.8, 28429351, 93), ('Washington', 91.1, 36888, 3.1, 9.0, 686, 2.55, 70116, 10.3, 1.0, 11.2, 0.9, 9.7, 1.6, 2.1, 25002738, 95), ('West Virginia', 86.5, 25479, 4.7, 17.5, 332, 2.42, 44921, 17.2, 2.1, 16.3, 3.5, 16.5, 1.9, 2.4, None, None), ('Wisconsin', 91.9, 32018, 3.2, 11.4, 664, 2.4, 59209, 9.5, 0.8, 11.1, 1.2, 8.9, 1.0, 1.5, 17333494, 99), ('Wyoming', 92.9, 32295, 2.6, 17.4, 101, 2.46, 62268, 11.4, 1.6, 10.3, 1.7, 11.2, 1.7, 1.5, 2778948, 101)]\n"
     ]
    }
   ],
   "source": [
    "# Join tables\n",
    "merged_updated_results = [record for record in conn.execute(f\"\"\"\n",
    "                                                     SELECT \n",
    "                                                       state_table.state_code,\n",
    "                                                       state_table.percent_hs_grad,\n",
    "                                                       state_table.per_capita_income,\n",
    "                                                       crime_table.homicide_rate,\n",
    "                                                       crime_table.firearms_death_rate,\n",
    "                                                       crime_table.total_firearm_deaths,\n",
    "                                                       household_table.household_size,\n",
    "                                                       household_table.median_income,\n",
    "                                                       poverty_table.sixteen_average,\n",
    "                                                       poverty_table.sixteen_error,\n",
    "                                                       poverty_table.fifteen_average,\n",
    "                                                       poverty_table.fifteen_error,\n",
    "                                                       poverty_table.seventeen_average,\n",
    "                                                       poverty_table.seventeen_error,\n",
    "                                                       poverty_table.three_year_error,\n",
    "                                                       nonemp.county,\n",
    "                                                       nonemp.NRCPTOT\n",
    "                                                       \n",
    "                                                     FROM state_table\n",
    "                                                     \n",
    "                                                     left join crime_table\n",
    "                                                         on crime_table.state_code = state_table.state_code\n",
    "                                                         \n",
    "                                                     left join household_table\n",
    "                                                         on household_table.state_code = state_table.state_code\n",
    "                                                         \n",
    "                                                     left join poverty_table\n",
    "                                                         on poverty_table.state_code = state_table.state_code\n",
    "                                                         \n",
    "                                                     left join nonemp\n",
    "                                                         on nonemp.state_code = state_table.state_code\n",
    "                                                         \n",
    "                                                     ORDER BY state_table.state_code \n",
    "                                                  \"\"\").fetchall()]\n",
    "print(join_updated_results)"
   ]
  },
  {
   "cell_type": "code",
   "execution_count": 62,
   "metadata": {},
   "outputs": [
    {
     "name": "stdout",
     "output_type": "stream",
     "text": [
      "[16.0, 1.5, 16.3, 1.9, 15.6, 1.6, 1.9, 14797010.0, 1]\n"
     ]
    }
   ],
   "source": [
    "calculation_results_group_by = [record for record in conn.execute(f\"\"\"\n",
    "                                                     SELECT\n",
    "                                                       min(poverty_table.sixteen_average) as min_sixteen_average, \n",
    "                                                       max(poverty_table.sixteen_error) as max_sixteen_error,\n",
    "                                                       min(poverty_table.fifteen_average) as min_fifteen_average,\n",
    "                                                       max(poverty_table.fifteen_error) as max_fifteen_error,\n",
    "                                                       min(poverty_table.seventeen_average) as min_seventeen_average,\n",
    "                                                       max(poverty_table.seventeen_error) as max_seventeen_error,\n",
    "                                                       avg(poverty_table.three_year_error) as avg_three_year_error,\n",
    "                                                       avg(nonemp.county) as avg_county,\n",
    "                                                       min(nonemp.NRCPTOT) as min_NRCPTOT\n",
    "                                                       \n",
    "                                                     FROM state_table\n",
    "                                                     \n",
    "                                                     left join crime_table\n",
    "                                                         on crime_table.state_code = state_table.state_code\n",
    "                                                    \n",
    "                                                     left join household_table\n",
    "                                                         on household_table.state_code = state_table.state_code\n",
    "\n",
    "                                                     left join poverty_table\n",
    "                                                         on poverty_table.state_code = state_table.state_code\n",
    "                                                         \n",
    "                                                     left join nonemp\n",
    "                                                         on nonemp.state_code = state_table.state_code\n",
    "                                                         \n",
    "                                                     GROUP BY state_table.state_code\n",
    "                                                     \n",
    "                                                     \n",
    "                                                  \"\"\").fetchall()][0]\n",
    "\n",
    "#rounding\n",
    "calculation_results_group_by = [a for a in calculation_results_group_by]\n",
    "\n",
    "calculation_results_group_by = [round(a, 2) for a in calculation_results_group_by]\n",
    "print(calculation_results_group_by)\n",
    "\n"
   ]
  },
  {
   "cell_type": "code",
   "execution_count": null,
   "metadata": {},
   "outputs": [],
   "source": [
    "\n",
    "\n"
   ]
  }
 ],
 "metadata": {
  "kernelspec": {
   "display_name": "Python 3.7.4 64-bit ('anaconda3': virtualenv)",
   "language": "python",
   "name": "python37464bitanaconda3virtualenv2d3916b64da04429b70da5d27d34c391"
  },
  "language_info": {
   "codemirror_mode": {
    "name": "ipython",
    "version": 3
   },
   "file_extension": ".py",
   "mimetype": "text/x-python",
   "name": "python",
   "nbconvert_exporter": "python",
   "pygments_lexer": "ipython3",
   "version": "3.7.4"
  }
 },
 "nbformat": 4,
 "nbformat_minor": 2
}
