{
 "cells": [
  {
   "cell_type": "code",
   "execution_count": 4,
   "metadata": {
    "slideshow": {
     "slide_type": "slide"
    }
   },
   "outputs": [],
   "source": [
    "import pandas as pd"
   ]
  },
  {
   "cell_type": "code",
   "execution_count": 5,
   "metadata": {
    "slideshow": {
     "slide_type": "fragment"
    }
   },
   "outputs": [],
   "source": [
    "url = 'https://worldpopulationreview.com/state-rankings/crime-rate-by-state'"
   ]
  },
  {
   "cell_type": "code",
   "execution_count": 6,
   "metadata": {
    "slideshow": {
     "slide_type": "fragment"
    }
   },
   "outputs": [
    {
     "data": {
      "text/plain": [
       "[             State  Homicide Rate  Firearms Death Rate  Total Firearm Deaths\n",
       " 0        Louisiana           12.4                 21.3                   987\n",
       " 1         Missouri            9.8                 19.0                  1144\n",
       " 2           Nevada            9.1                 16.8                   498\n",
       " 3         Maryland            9.0                 11.9                   707\n",
       " 4         Arkansas            8.6                 17.8                   541\n",
       " 5           Alaska            8.4                 23.3                   177\n",
       " 6          Alabama            8.3                 21.5                  1046\n",
       " 7      Mississippi            8.2                 19.9                   587\n",
       " 8        Tennessee            7.8                 17.1                  1148\n",
       " 9   South Carolina            7.8                 17.7                   891\n",
       " 10        Illinois            7.8                 11.7                  1490\n",
       " 11      New Mexico            7.1                 18.1                   383\n",
       " 12         Georgia            6.7                 15.0                  1571\n",
       " 13        Oklahoma            6.2                 19.6                   766\n",
       " 14            Ohio            6.1                 12.9                  1524\n",
       " 15         Indiana            6.0                 15.0                   997\n",
       " 16        Kentucky            5.9                 17.5                   772\n",
       " 17         Arizona            5.9                 15.2                  1094\n",
       " 18    Pennsylvania            5.8                 12.0                  1555\n",
       " 19  North Carolina            5.8                 13.7                  1409\n",
       " 20        Michigan            5.7                 12.3                  1230\n",
       " 21        Delaware            5.6                 11.0                   111\n",
       " 22          Kansas            5.5                 13.4                   383\n",
       " 23        Virginia            5.3                 12.1                  1049\n",
       " 24           Texas            5.0                 12.1                  3353\n",
       " 25         Florida            5.0                 12.6                  2704\n",
       " 26   West Virginia            4.7                 17.5                   332\n",
       " 27      California            4.6                  7.9                  3184\n",
       " 28         Montana            3.9                 18.9                   194\n",
       " 29        Colorado            3.9                 14.3                   812\n",
       " 30      New Jersey            3.6                  5.5                   485\n",
       " 31            Iowa            3.3                  9.2                   288\n",
       " 32       Wisconsin            3.2                 11.4                   664\n",
       " 33      Washington            3.1                  9.0                   686\n",
       " 34    South Dakota            2.9                 13.4                   108\n",
       " 35        New York            2.8                  4.4                   900\n",
       " 36     Connecticut            2.8                  4.6                   172\n",
       " 37          Hawaii            2.7                  4.5                    66\n",
       " 38         Wyoming            2.6                 17.4                   101\n",
       " 39          Oregon            2.5                 11.9                   513\n",
       " 40   Massachusetts            2.5                  3.4                   242\n",
       " 41            Utah            2.4                 12.9                   370\n",
       " 42         Vermont            2.2                 11.1                    78\n",
       " 43        Nebraska            2.2                  9.1                   171\n",
       " 44       Minnesota            2.0                  7.6                   432\n",
       " 45    Rhode Island            1.9                  4.1                    49\n",
       " 46           Idaho            1.9                 14.6                   242\n",
       " 47           Maine            1.7                  8.3                   123\n",
       " 48    North Dakota            1.3                 11.9                    90\n",
       " 49   New Hampshire            1.0                  9.3                   132]"
      ]
     },
     "execution_count": 6,
     "metadata": {},
     "output_type": "execute_result"
    }
   ],
   "source": [
    "table = pd.read_html(url)\n",
    "table"
   ]
  },
  {
   "cell_type": "code",
   "execution_count": 7,
   "metadata": {
    "slideshow": {
     "slide_type": "fragment"
    }
   },
   "outputs": [
    {
     "data": {
      "text/plain": [
       "list"
      ]
     },
     "execution_count": 7,
     "metadata": {},
     "output_type": "execute_result"
    }
   ],
   "source": [
    "type(table)"
   ]
  },
  {
   "cell_type": "code",
   "execution_count": 8,
   "metadata": {
    "slideshow": {
     "slide_type": "fragment"
    }
   },
   "outputs": [
    {
     "data": {
      "text/html": [
       "<div>\n",
       "<style scoped>\n",
       "    .dataframe tbody tr th:only-of-type {\n",
       "        vertical-align: middle;\n",
       "    }\n",
       "\n",
       "    .dataframe tbody tr th {\n",
       "        vertical-align: top;\n",
       "    }\n",
       "\n",
       "    .dataframe thead th {\n",
       "        text-align: right;\n",
       "    }\n",
       "</style>\n",
       "<table border=\"1\" class=\"dataframe\">\n",
       "  <thead>\n",
       "    <tr style=\"text-align: right;\">\n",
       "      <th></th>\n",
       "      <th>State</th>\n",
       "      <th>Homicide Rate</th>\n",
       "      <th>Firearms Death Rate</th>\n",
       "      <th>Total Firearm Deaths</th>\n",
       "    </tr>\n",
       "  </thead>\n",
       "  <tbody>\n",
       "    <tr>\n",
       "      <th>0</th>\n",
       "      <td>Louisiana</td>\n",
       "      <td>12.4</td>\n",
       "      <td>21.3</td>\n",
       "      <td>987</td>\n",
       "    </tr>\n",
       "    <tr>\n",
       "      <th>1</th>\n",
       "      <td>Missouri</td>\n",
       "      <td>9.8</td>\n",
       "      <td>19.0</td>\n",
       "      <td>1144</td>\n",
       "    </tr>\n",
       "    <tr>\n",
       "      <th>2</th>\n",
       "      <td>Nevada</td>\n",
       "      <td>9.1</td>\n",
       "      <td>16.8</td>\n",
       "      <td>498</td>\n",
       "    </tr>\n",
       "    <tr>\n",
       "      <th>3</th>\n",
       "      <td>Maryland</td>\n",
       "      <td>9.0</td>\n",
       "      <td>11.9</td>\n",
       "      <td>707</td>\n",
       "    </tr>\n",
       "    <tr>\n",
       "      <th>4</th>\n",
       "      <td>Arkansas</td>\n",
       "      <td>8.6</td>\n",
       "      <td>17.8</td>\n",
       "      <td>541</td>\n",
       "    </tr>\n",
       "  </tbody>\n",
       "</table>\n",
       "</div>"
      ],
      "text/plain": [
       "       State  Homicide Rate  Firearms Death Rate  Total Firearm Deaths\n",
       "0  Louisiana           12.4                 21.3                   987\n",
       "1   Missouri            9.8                 19.0                  1144\n",
       "2     Nevada            9.1                 16.8                   498\n",
       "3   Maryland            9.0                 11.9                   707\n",
       "4   Arkansas            8.6                 17.8                   541"
      ]
     },
     "execution_count": 8,
     "metadata": {},
     "output_type": "execute_result"
    }
   ],
   "source": [
    "df = table[0] \n",
    "df.columns = ['State', 'Homicide Rate', 'Firearms Death Rate', 'Total Firearm Deaths']\n",
    "df.head()"
   ]
  },
  {
   "cell_type": "code",
   "execution_count": 9,
   "metadata": {
    "slideshow": {
     "slide_type": "fragment"
    }
   },
   "outputs": [
    {
     "data": {
      "text/html": [
       "<div>\n",
       "<style scoped>\n",
       "    .dataframe tbody tr th:only-of-type {\n",
       "        vertical-align: middle;\n",
       "    }\n",
       "\n",
       "    .dataframe tbody tr th {\n",
       "        vertical-align: top;\n",
       "    }\n",
       "\n",
       "    .dataframe thead th {\n",
       "        text-align: right;\n",
       "    }\n",
       "</style>\n",
       "<table border=\"1\" class=\"dataframe\">\n",
       "  <thead>\n",
       "    <tr style=\"text-align: right;\">\n",
       "      <th></th>\n",
       "      <th>Homicide Rate</th>\n",
       "      <th>Firearms Death Rate</th>\n",
       "      <th>Total Firearm Deaths</th>\n",
       "    </tr>\n",
       "    <tr>\n",
       "      <th>State</th>\n",
       "      <th></th>\n",
       "      <th></th>\n",
       "      <th></th>\n",
       "    </tr>\n",
       "  </thead>\n",
       "  <tbody>\n",
       "    <tr>\n",
       "      <th>Louisiana</th>\n",
       "      <td>12.4</td>\n",
       "      <td>21.3</td>\n",
       "      <td>987</td>\n",
       "    </tr>\n",
       "    <tr>\n",
       "      <th>Missouri</th>\n",
       "      <td>9.8</td>\n",
       "      <td>19.0</td>\n",
       "      <td>1144</td>\n",
       "    </tr>\n",
       "    <tr>\n",
       "      <th>Nevada</th>\n",
       "      <td>9.1</td>\n",
       "      <td>16.8</td>\n",
       "      <td>498</td>\n",
       "    </tr>\n",
       "    <tr>\n",
       "      <th>Maryland</th>\n",
       "      <td>9.0</td>\n",
       "      <td>11.9</td>\n",
       "      <td>707</td>\n",
       "    </tr>\n",
       "    <tr>\n",
       "      <th>Arkansas</th>\n",
       "      <td>8.6</td>\n",
       "      <td>17.8</td>\n",
       "      <td>541</td>\n",
       "    </tr>\n",
       "  </tbody>\n",
       "</table>\n",
       "</div>"
      ],
      "text/plain": [
       "           Homicide Rate  Firearms Death Rate  Total Firearm Deaths\n",
       "State                                                              \n",
       "Louisiana           12.4                 21.3                   987\n",
       "Missouri             9.8                 19.0                  1144\n",
       "Nevada               9.1                 16.8                   498\n",
       "Maryland             9.0                 11.9                   707\n",
       "Arkansas             8.6                 17.8                   541"
      ]
     },
     "execution_count": 9,
     "metadata": {},
     "output_type": "execute_result"
    }
   ],
   "source": [
    "df.set_index('State', inplace=True)\n",
    "df.head()"
   ]
  },
  {
   "cell_type": "code",
   "execution_count": 16,
   "metadata": {},
   "outputs": [],
   "source": [
    "csv_crime_table = df.to_csv('crime_table.csv', index =True)\n",
    "csv_crime_table"
   ]
  }
 ],
 "metadata": {
  "kernelspec": {
   "display_name": "Python 3",
   "language": "python",
   "name": "python3"
  },
  "language_info": {
   "codemirror_mode": {
    "name": "ipython",
    "version": 3
   },
   "file_extension": ".py",
   "mimetype": "text/x-python",
   "name": "python",
   "nbconvert_exporter": "python",
   "pygments_lexer": "ipython3",
   "version": "3.7.6"
  },
  "varInspector": {
   "cols": {
    "lenName": 16,
    "lenType": 16,
    "lenVar": 40
   },
   "kernels_config": {
    "python": {
     "delete_cmd_postfix": "",
     "delete_cmd_prefix": "del ",
     "library": "var_list.py",
     "varRefreshCmd": "print(var_dic_list())"
    },
    "r": {
     "delete_cmd_postfix": ") ",
     "delete_cmd_prefix": "rm(",
     "library": "var_list.r",
     "varRefreshCmd": "cat(var_dic_list()) "
    }
   },
   "types_to_exclude": [
    "module",
    "function",
    "builtin_function_or_method",
    "instance",
    "_Feature"
   ],
   "window_display": false
  }
 },
 "nbformat": 4,
 "nbformat_minor": 2
}
