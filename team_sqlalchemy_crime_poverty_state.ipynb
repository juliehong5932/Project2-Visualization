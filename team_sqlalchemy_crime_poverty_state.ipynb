{
 "cells": [
  {
   "cell_type": "code",
   "execution_count": 108,
   "metadata": {},
   "outputs": [],
   "source": [
    "# Dependencies\n",
    "# ----------------------------------\n",
    "from sqlalchemy import create_engine\n",
    "from sqlalchemy.ext.declarative import declarative_base\n",
    "Base = declarative_base()"
   ]
  },
  {
   "cell_type": "code",
   "execution_count": 109,
   "metadata": {},
   "outputs": [],
   "source": [
    "import sqlalchemy\n",
    "from sqlalchemy.ext.automap import automap_base\n",
    "from sqlalchemy.orm import Session\n",
    "from sqlalchemy import create_engine, inspect"
   ]
  },
  {
   "cell_type": "code",
   "execution_count": 110,
   "metadata": {},
   "outputs": [],
   "source": [
    "from sqlalchemy import Column, Integer, String, Float"
   ]
  },
  {
   "cell_type": "code",
   "execution_count": 111,
   "metadata": {},
   "outputs": [],
   "source": [
    "# Create Database Connection\n",
    "# ----------------------------------\n",
    "database_path = \"team_visualization_project2\"\n",
    "engine = create_engine(f\"sqlite:///{database_path}\")\n",
    "conn = engine.connect()"
   ]
  },
  {
   "cell_type": "code",
   "execution_count": 112,
   "metadata": {},
   "outputs": [],
   "source": [
    "# Solongo's data table \n",
    "# Create the table\n",
    "class state_table(Base):\n",
    "    __tablename__ = \"state_table\"\n",
    "    state_code = Column(String, primary_key=True)\n",
    "    percent_hs_grad = Column(Float)\n",
    "    per_capita_income = Column(Integer)"
   ]
  },
  {
   "cell_type": "code",
   "execution_count": 113,
   "metadata": {},
   "outputs": [],
   "source": [
    "# Liz's crime data table \n",
    "# Create the table\n",
    "class crime_table(Base):\n",
    "    __tablename__ = \"crime_table\"\n",
    "    state_code = Column(String, primary_key=True)\n",
    "    homicide_rate = Column(Float)\n",
    "    firearms_death_rate = Column(Float)\n",
    "    total_firearm_deaths = Column(Integer)"
   ]
  },
  {
   "cell_type": "code",
   "execution_count": 114,
   "metadata": {},
   "outputs": [],
   "source": [
    "# Liz's  poverty data table \n",
    "# Create the table\n",
    "class poverty_table(Base):\n",
    "    __tablename__ = \"poverty_table1\"\n",
    "    state_code = Column(String, primary_key=True)\n",
    "    sixteen_average = Column(Float)\n",
    "    sixteen_error  = Column(Float)\n",
    "    fifteen_average  = Column(Float)\n",
    "    fifteen_error  = Column(Float)\n",
    "    seventeen_average  = Column(Float)\n",
    "    seventeen_error  = Column(Float)\n",
    "    three_year_change  = Column(Float)\n",
    "    three_year_error  = Column(Float)"
   ]
  },
  {
   "cell_type": "code",
   "execution_count": 115,
   "metadata": {},
   "outputs": [],
   "source": [
    "# Create the table Julie's data table \n",
    "# Create the table\n",
    "class household_table(Base):\n",
    "    __tablename__ = \"household_table\"\n",
    "    state_code = Column(String, primary_key=True)\n",
    "    household_size = Column(Float)\n",
    "    median_income = Column(Integer)"
   ]
  },
  {
   "cell_type": "code",
   "execution_count": 116,
   "metadata": {},
   "outputs": [],
   "source": [
    "# Create the table Whitney's data table \n",
    "# Create the table"
   ]
  },
  {
   "cell_type": "code",
   "execution_count": 117,
   "metadata": {},
   "outputs": [],
   "source": [
    "\n",
    "# Create a session\n",
    "session = Session(bind=engine)"
   ]
  },
  {
   "cell_type": "code",
   "execution_count": 118,
   "metadata": {},
   "outputs": [],
   "source": [
    "\n",
    "# Create a \"Metadata\" Layer That Abstracts our SQL Database\n",
    "Base.metadata.create_all(engine)"
   ]
  },
  {
   "cell_type": "code",
   "execution_count": 119,
   "metadata": {},
   "outputs": [],
   "source": [
    "\n",
    "# reflect an existing database into a new model\n",
    "Base = automap_base()\n",
    "\n",
    "# reflect the tables\n",
    "Base.prepare(engine, reflect=True)"
   ]
  },
  {
   "cell_type": "code",
   "execution_count": 120,
   "metadata": {},
   "outputs": [
    {
     "data": {
      "text/plain": [
       "['crime_table',\n",
       " 'household_table',\n",
       " 'poverty_table',\n",
       " 'poverty_table1',\n",
       " 'state_table']"
      ]
     },
     "execution_count": 120,
     "metadata": {},
     "output_type": "execute_result"
    }
   ],
   "source": [
    "# view all the classes that automap found\n",
    "Base.classes.keys()"
   ]
  },
  {
   "cell_type": "code",
   "execution_count": 121,
   "metadata": {},
   "outputs": [],
   "source": [
    "# create our session (link) from Python to the DB\n",
    "session = Session(engine)"
   ]
  },
  {
   "cell_type": "code",
   "execution_count": 122,
   "metadata": {},
   "outputs": [
    {
     "name": "stdout",
     "output_type": "stream",
     "text": [
      "\u001b[1m\n",
      "state_table\u001b[0m\n",
      "\u001b[1mcrime_table\u001b[0m\n",
      "\u001b[1mcrime_table\u001b[0m\n",
      "state_code VARCHAR\n",
      "sixteen_average FLOAT\n",
      "sixteen_error FLOAT\n",
      "fifteen_average FLOAT\n",
      "fifteen_error FLOAT\n",
      "seventeen_average FLOAT\n",
      "seventeen_error FLOAT\n",
      "three_year_change FLOAT\n",
      "three_year_error FLOAT\n",
      "\u001b[1mhousehold_table\u001b[0m\n"
     ]
    },
    {
     "ename": "NameError",
     "evalue": "name 'household' is not defined",
     "output_type": "error",
     "traceback": [
      "\u001b[1;31m---------------------------------------------------------------------------\u001b[0m",
      "\u001b[1;31mNameError\u001b[0m                                 Traceback (most recent call last)",
      "\u001b[1;32m<ipython-input-122-94fcc02765c5>\u001b[0m in \u001b[0;36m<module>\u001b[1;34m\u001b[0m\n\u001b[0;32m     28\u001b[0m \u001b[0mpoverty\u001b[0m \u001b[1;33m=\u001b[0m \u001b[0minspector\u001b[0m\u001b[1;33m.\u001b[0m\u001b[0mget_columns\u001b[0m\u001b[1;33m(\u001b[0m\u001b[1;34m'household_table'\u001b[0m\u001b[1;33m)\u001b[0m\u001b[1;33m\u001b[0m\u001b[1;33m\u001b[0m\u001b[0m\n\u001b[0;32m     29\u001b[0m \u001b[0mprint\u001b[0m\u001b[1;33m(\u001b[0m\u001b[0mcolor\u001b[0m\u001b[1;33m.\u001b[0m\u001b[0mBOLD\u001b[0m \u001b[1;33m+\u001b[0m \u001b[1;34m'household_table'\u001b[0m \u001b[1;33m+\u001b[0m \u001b[0mcolor\u001b[0m\u001b[1;33m.\u001b[0m\u001b[0mEND\u001b[0m\u001b[1;33m)\u001b[0m\u001b[1;33m\u001b[0m\u001b[1;33m\u001b[0m\u001b[0m\n\u001b[1;32m---> 30\u001b[1;33m \u001b[1;32mfor\u001b[0m \u001b[0mc\u001b[0m \u001b[1;32min\u001b[0m \u001b[0mhousehold\u001b[0m\u001b[1;33m:\u001b[0m\u001b[1;33m\u001b[0m\u001b[1;33m\u001b[0m\u001b[0m\n\u001b[0m\u001b[0;32m     31\u001b[0m     \u001b[0mprint\u001b[0m\u001b[1;33m(\u001b[0m\u001b[0mc\u001b[0m\u001b[1;33m[\u001b[0m\u001b[1;34m'name'\u001b[0m\u001b[1;33m]\u001b[0m\u001b[1;33m,\u001b[0m \u001b[0mc\u001b[0m\u001b[1;33m[\u001b[0m\u001b[1;34m'type'\u001b[0m\u001b[1;33m]\u001b[0m\u001b[1;33m)\u001b[0m\u001b[1;33m\u001b[0m\u001b[1;33m\u001b[0m\u001b[0m\n\u001b[0;32m     32\u001b[0m \u001b[1;33m\u001b[0m\u001b[0m\n",
      "\u001b[1;31mNameError\u001b[0m: name 'household' is not defined"
     ]
    }
   ],
   "source": [
    "# A Inspector object is usually created via the inspect() function:\n",
    "inspector = inspect(engine)\n",
    "# -----------------------------------------------------------\n",
    "# Define fonts \n",
    "class color:\n",
    "    BOLD = '\\033[1m'\n",
    "    END = '\\033[0m'\n",
    "# -----------------------------------------------------------    \n",
    "\n",
    "# check how tables structured and described \n",
    "state = inspector.get_columns('state_table2')\n",
    "print(color.BOLD + '\\nstate_table' + color.END)\n",
    "\n",
    "for c in state:\n",
    "    print(c['name'], c['type'])\n",
    "\n",
    "\n",
    "crime = inspector.get_columns('crime_table2')\n",
    "print(color.BOLD + 'crime_table' + color.END)\n",
    "for c in crime:\n",
    "    print(c['name'], c['type'])\n",
    "\n",
    "poverty = inspector.get_columns('poverty_table1')\n",
    "print(color.BOLD + 'crime_table' + color.END)\n",
    "for c in poverty:\n",
    "    print(c['name'], c['type'])\n",
    "\n",
    "poverty = inspector.get_columns('household_table')\n",
    "print(color.BOLD + 'household_table' + color.END)\n",
    "for c in household:\n",
    "    print(c['name'], c['type'])\n",
    "    "
   ]
  },
  {
   "cell_type": "code",
   "execution_count": null,
   "metadata": {},
   "outputs": [],
   "source": []
  }
 ],
 "metadata": {
  "kernelspec": {
   "display_name": "Python 3",
   "language": "python",
   "name": "python3"
  },
  "language_info": {
   "codemirror_mode": {
    "name": "ipython",
    "version": 3
   },
   "file_extension": ".py",
   "mimetype": "text/x-python",
   "name": "python",
   "nbconvert_exporter": "python",
   "pygments_lexer": "ipython3",
   "version": "3.7.6"
  }
 },
 "nbformat": 4,
 "nbformat_minor": 4
}
