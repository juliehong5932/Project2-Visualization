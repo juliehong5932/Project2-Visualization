{
 "cells": [
  {
   "cell_type": "markdown",
   "metadata": {},
   "source": [
    "## All our data will be stored in one database"
   ]
  },
  {
   "cell_type": "code",
   "execution_count": null,
   "metadata": {},
   "outputs": [],
   "source": [
    "# Dependencies\n",
    "# ----------------------------------\n",
    "from sqlalchemy import create_engine\n",
    "from sqlalchemy.ext.declarative import declarative_base\n",
    "Base = declarative_base()"
   ]
  },
  {
   "cell_type": "code",
   "execution_count": 39,
   "metadata": {},
   "outputs": [],
   "source": [
    "import sqlalchemy\n",
    "from sqlalchemy.ext.automap import automap_base\n",
    "from sqlalchemy.orm import Session\n",
    "from sqlalchemy import create_engine, inspect"
   ]
  },
  {
   "cell_type": "code",
   "execution_count": 40,
   "metadata": {},
   "outputs": [],
   "source": [
    "from sqlalchemy import Column, Integer, String, Float"
   ]
  },
  {
   "cell_type": "code",
   "execution_count": 47,
   "metadata": {},
   "outputs": [],
   "source": [
    "# Create Database Connection\n",
    "# ----------------------------------\n",
    "database_path = \"team_visualization_project2\"\n",
    "engine = create_engine(f\"sqlite:///{database_path}\")\n",
    "conn = engine.connect()"
   ]
  },
  {
   "cell_type": "code",
   "execution_count": null,
   "metadata": {},
   "outputs": [],
   "source": [
    "# Solongo's data table \n",
    "# Create the table\n",
    "class state_table(Base):\n",
    "    __tablename__ = \"state_table\"\n",
    "    state_code = Column(String, primary_key=True)\n",
    "    percent_hs_grad = Column(Float)\n",
    "    per_capita_income = Column(Integer)"
   ]
  },
  {
   "cell_type": "code",
   "execution_count": null,
   "metadata": {},
   "outputs": [],
   "source": [
    "# Liz's data table \n",
    "# Create the table\n",
    "class crime_table(Base):\n",
    "    __tablename__ = \"crime_table\"\n",
    "    state_code = Column(String, primary_key=True)\n",
    "    homicide_rate = Column(Float)\n",
    "    firearms_death_rate = Column(Float)\n",
    "    total_firearm_deaths = Column(Integer)   "
   ]
  },
  {
   "cell_type": "code",
   "execution_count": null,
   "metadata": {},
   "outputs": [],
   "source": [
    "# Create the table Jule's data table \n",
    "# Create the table"
   ]
  },
  {
   "cell_type": "code",
   "execution_count": 49,
   "metadata": {},
   "outputs": [],
   "source": [
    "# Create the table Whitney's data table \n",
    "# Create the table\n"
   ]
  },
  {
   "cell_type": "code",
   "execution_count": 51,
   "metadata": {},
   "outputs": [],
   "source": [
    "# Create a session\n",
    "session = Session(bind=engine)"
   ]
  },
  {
   "cell_type": "code",
   "execution_count": 52,
   "metadata": {},
   "outputs": [],
   "source": [
    "# Create a \"Metadata\" Layer That Abstracts our SQL Database\n",
    "Base.metadata.create_all(engine)"
   ]
  },
  {
   "cell_type": "code",
   "execution_count": 53,
   "metadata": {},
   "outputs": [],
   "source": [
    "# reflect an existing database into a new model\n",
    "Base = automap_base()\n",
    "\n",
    "# reflect the tables\n",
    "Base.prepare(engine, reflect=True)"
   ]
  },
  {
   "cell_type": "code",
   "execution_count": 54,
   "metadata": {},
   "outputs": [
    {
     "data": {
      "text/plain": [
       "['crime_table', 'crime_table2', 'state_table', 'state_table2']"
      ]
     },
     "execution_count": 54,
     "metadata": {},
     "output_type": "execute_result"
    }
   ],
   "source": [
    "# view all the classes that automap found\n",
    "Base.classes.keys()"
   ]
  },
  {
   "cell_type": "code",
   "execution_count": 55,
   "metadata": {},
   "outputs": [],
   "source": [
    "# create our session (link) from Python to the DB\n",
    "session = Session(engine)"
   ]
  },
  {
   "cell_type": "code",
   "execution_count": 57,
   "metadata": {},
   "outputs": [
    {
     "name": "stdout",
     "output_type": "stream",
     "text": [
      "\u001b[1m\n",
      "state_table\u001b[0m\n",
      "state_code VARCHAR\n",
      "percent_hs_grad FLOAT\n",
      "per_capita_income INTEGER\n",
      "\u001b[1mcrime_table\u001b[0m\n",
      "state_code VARCHAR\n",
      "homicide_rate FLOAT\n",
      "firearms_death_rate FLOAT\n",
      "total_firearm_deaths INTEGER\n"
     ]
    }
   ],
   "source": [
    "# A Inspector object is usually created via the inspect() function:\n",
    "inspector = inspect(engine)\n",
    "# -----------------------------------------------------------\n",
    "\n",
    "# Define fonts \n",
    "class color:\n",
    "    BOLD = '\\033[1m'\n",
    "    END = '\\033[0m'\n",
    "# -----------------------------------------------------------    \n",
    "\n",
    "# check how tables structured and described \n",
    "state = inspector.get_columns('state_table2')\n",
    "print(color.BOLD + '\\nstate_table' + color.END)\n",
    "\n",
    "for c in s:\n",
    "    print(c['name'], c['type'])\n",
    "\n",
    "\n",
    "crime = inspector.get_columns('crime_table2')\n",
    "print(color.BOLD + 'crime_table' + color.END)\n",
    "for c in crime:\n",
    "    print(c['name'], c['type'])\n"
   ]
  },
  {
   "cell_type": "markdown",
   "metadata": {},
   "source": [
    "## NEXT: TO DO:  \n",
    "* Create tables \n",
    "* Load our data from csv\n",
    "* Clean our data (merge data from our tables by states)\n",
    "* Flask (JSON - for the visualization) \n"
   ]
  },
  {
   "cell_type": "code",
   "execution_count": null,
   "metadata": {},
   "outputs": [],
   "source": []
  },
  {
   "cell_type": "code",
   "execution_count": null,
   "metadata": {},
   "outputs": [],
   "source": []
  }
 ],
 "metadata": {
  "kernelspec": {
   "display_name": "Python 3.7.4 64-bit ('anaconda3': virtualenv)",
   "language": "python",
   "name": "python37464bitanaconda3virtualenv2d3916b64da04429b70da5d27d34c391"
  },
  "language_info": {
   "codemirror_mode": {
    "name": "ipython",
    "version": 3
   },
   "file_extension": ".py",
   "mimetype": "text/x-python",
   "name": "python",
   "nbconvert_exporter": "python",
   "pygments_lexer": "ipython3",
   "version": "3.7.4"
  }
 },
 "nbformat": 4,
 "nbformat_minor": 2
}
