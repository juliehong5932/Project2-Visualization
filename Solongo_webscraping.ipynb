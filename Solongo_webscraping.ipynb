{
 "cells": [
  {
   "cell_type": "markdown",
   "metadata": {},
   "source": [
    "# Scrape \n",
    "\n",
    "United States - Educational attainment - persons 25 years and over - percent high school graduate or higher by State\n",
    "https://www.indexmundi.com/facts/united-states/quick-facts/all-states/percent-of-people-25-years-and-over-with-high-school-degree-or-higher#table\n",
    "\n",
    "\n",
    "United States - Per capita income in past 12 months (in 2018 dollars), 2014-2018 by State\n",
    "https://www.indexmundi.com/facts/united-states/quick-facts/all-states/income-per-capita#table"
   ]
  },
  {
   "cell_type": "code",
   "execution_count": 44,
   "metadata": {},
   "outputs": [],
   "source": [
    "# import dependencies \n",
    "import requests\n",
    "import pandas as pd\n",
    "from bs4 import BeautifulSoup\n"
   ]
  },
  {
   "cell_type": "code",
   "execution_count": 39,
   "metadata": {},
   "outputs": [],
   "source": [
    "# request\n",
    "def get_page_html(url):\n",
    "    page = requests.get(url)\n",
    "    return page.content"
   ]
  },
  {
   "cell_type": "code",
   "execution_count": 40,
   "metadata": {},
   "outputs": [],
   "source": [
    "# urls\n",
    "hs_degree_url = \"https://www.indexmundi.com/facts/united-states/quick-facts/all-states/percent-of-people-25-years-and-over-with-high-school-degree-or-higher\"\n",
    "income_url = \"https://www.indexmundi.com/facts/united-states/quick-facts/all-states/income-per-capita\"\n",
    "\n",
    "hs_degree_html = get_page_html(url=hs_degree_url)\n",
    "income_degree_html = get_page_html(url=income_url)"
   ]
  },
  {
   "cell_type": "code",
   "execution_count": 41,
   "metadata": {},
   "outputs": [],
   "source": [
    "def convert_string_to_number(number):\n",
    "    # strip out comma and whitespace\n",
    "    number = number.replace(\",\", \"\").strip()\n",
    "    try:\n",
    "        return_val = int(number)\n",
    "    except ValueError:\n",
    "        # number is float\n",
    "        return_val = float(number)\n",
    "    return return_val\n",
    "            \n",
    "def convert_string_to_float(number):\n",
    "    # strip out comma and whitespace\n",
    "    number = number.replace(\",\", \"\").strip()\n",
    "    return float(number)\n",
    "\n",
    "\n",
    "def convert_data_table_to_dict(html):\n",
    "    soup = BeautifulSoup(html, 'html.parser')\n",
    "    data_div = soup.find(\"div\", { \"id\" : \"tableTab\" })\n",
    "    table = data_div.find(\"table\")\n",
    "    \n",
    "    return_dict = {}\n",
    "    for row in table.findAll(\"tr\"):\n",
    "        cells = row.findAll(\"td\")\n",
    "\n",
    "        # skipping TRs that are headings\n",
    "        if not cells:\n",
    "            continue\n",
    "\n",
    "        key = cells[0].find(text=True)\n",
    "        value = cells[1].find(text=True)       \n",
    "        value = convert_string_to_number(value)\n",
    "        return_dict[key] = value\n",
    "\n",
    "    return return_dict\n",
    "    \n",
    "    \n",
    "\n",
    "hs_degree_data = convert_data_table_to_dict(html=hs_degree_html)\n",
    "income_data = convert_data_table_to_dict(html=income_degree_html)"
   ]
  },
  {
   "cell_type": "code",
   "execution_count": 42,
   "metadata": {},
   "outputs": [
    {
     "name": "stdout",
     "output_type": "stream",
     "text": [
      "{'Alabama': 85.8, 'Alaska': 92.7, 'Arizona': 86.8, 'Arkansas': 86.2, 'California': 82.9, 'Colorado': 91.4, 'Connecticut': 90.5, 'Delaware': 89.8, 'District of Columbia': 90.6, 'Florida': 88.0, 'Georgia': 86.7, 'Hawaii': 91.8, 'Idaho': 90.6, 'Illinois': 88.9, 'Indiana': 88.6, 'Iowa': 92.0, 'Kansas': 90.7, 'Kentucky': 85.7, 'Louisiana': 84.8, 'Maine': 92.3, 'Maryland': 90.0, 'Massachusetts': 90.4, 'Michigan': 90.5, 'Minnesota': 93.0, 'Mississippi': 83.9, 'Missouri': 89.6, 'Montana': 93.2, 'Nebraska': 91.1, 'Nevada': 86.3, 'New Hampshire': 92.9, 'New Jersey': 89.5, 'New Mexico': 85.3, 'New York': 86.5, 'North Carolina': 87.4, 'North Dakota': 92.5, 'Ohio': 90.1, 'Oklahoma': 87.8, 'Oregon': 90.4, 'Pennsylvania': 90.2, 'Rhode Island': 88.0, 'South Carolina': 87.1, 'South Dakota': 91.7, 'Tennessee': 87.0, 'Texas': 83.2, 'Utah': 92.0, 'Vermont': 92.6, 'Virginia': 89.3, 'Washington': 91.1, 'West Virginia': 86.5, 'Wisconsin': 91.9, 'Wyoming': 92.9}\n",
      "{'Alabama': 26846, 'Alaska': 35874, 'Arizona': 29265, 'Arkansas': 25635, 'California': 35021, 'Colorado': 36415, 'Connecticut': 43056, 'Delaware': 33989, 'District of Columbia': 53321, 'Florida': 30197, 'Georgia': 29523, 'Hawaii': 34035, 'Idaho': 26772, 'Illinois': 34463, 'Indiana': 28461, 'Iowa': 31085, 'Kansas': 30757, 'Kentucky': 26948, 'Louisiana': 27027, 'Maine': 31253, 'Maryland': 40517, 'Massachusetts': 41794, 'Michigan': 30336, 'Minnesota': 36245, 'Mississippi': 23434, 'Missouri': 29537, 'Montana': 29765, 'Nebraska': 31101, 'Nevada': 29961, 'New Hampshire': 38548, 'New Jersey': 40895, 'New Mexico': 26085, 'New York': 37470, 'North Carolina': 29456, 'North Dakota': 35373, 'Ohio': 30304, 'Oklahoma': 27432, 'Oregon': 32045, 'Pennsylvania': 32889, 'Rhode Island': 34619, 'South Carolina': 27986, 'South Dakota': 29801, 'Tennessee': 28511, 'Texas': 30143, 'Utah': 28239, 'Vermont': 33238, 'Virginia': 37763, 'Washington': 36888, 'West Virginia': 25479, 'Wisconsin': 32018, 'Wyoming': 32295}\n"
     ]
    }
   ],
   "source": [
    "print(hs_degree_data)\n",
    "print(income_data)"
   ]
  },
  {
   "cell_type": "code",
   "execution_count": 45,
   "metadata": {},
   "outputs": [],
   "source": [
    "# Merge the data and convert to dataframe\n",
    "states = []\n",
    "degree_rates = []\n",
    "incomes = []\n",
    "\n",
    "for key, val in hs_degree_data.items():\n",
    "    states.append(key)\n",
    "    degree_rates.append(val)\n",
    "    incomes.append(income_data[key])\n",
    "\n",
    "multi_array = zip(states, degree_rates, incomes)\n",
    "df = pd.DataFrame(multi_array, columns=[\"state\", \"percent_hs_grad\", \"per_capita_income\"])\n",
    "df.to_csv(\"state_table.csv\", index=False)\n"
   ]
  },
  {
   "cell_type": "code",
   "execution_count": null,
   "metadata": {},
   "outputs": [],
   "source": []
  }
 ],
 "metadata": {
  "kernelspec": {
   "display_name": "Python 3.7.4 64-bit ('anaconda3': virtualenv)",
   "language": "python",
   "name": "python37464bitanaconda3virtualenv2d3916b64da04429b70da5d27d34c391"
  },
  "language_info": {
   "codemirror_mode": {
    "name": "ipython",
    "version": 3
   },
   "file_extension": ".py",
   "mimetype": "text/x-python",
   "name": "python",
   "nbconvert_exporter": "python",
   "pygments_lexer": "ipython3",
   "version": "3.7.4"
  }
 },
 "nbformat": 4,
 "nbformat_minor": 2
}
