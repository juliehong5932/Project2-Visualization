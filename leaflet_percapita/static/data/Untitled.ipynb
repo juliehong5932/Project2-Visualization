{
 "cells": [
  {
   "cell_type": "code",
   "execution_count": 1,
   "metadata": {},
   "outputs": [],
   "source": [
    "import json\n",
    "from pprint import pprint"
   ]
  },
  {
   "cell_type": "code",
   "execution_count": 3,
   "metadata": {},
   "outputs": [],
   "source": [
    "with open('us_state.geojson') as us_state: \n",
    "    us_state_json=json.load(us_state)"
   ]
  },
  {
   "cell_type": "code",
   "execution_count": 5,
   "metadata": {},
   "outputs": [
    {
     "data": {
      "text/plain": [
       "'FeatureCollection'"
      ]
     },
     "execution_count": 5,
     "metadata": {},
     "output_type": "execute_result"
    }
   ],
   "source": [
    "us_state_json['type']"
   ]
  },
  {
   "cell_type": "code",
   "execution_count": 6,
   "metadata": {},
   "outputs": [],
   "source": [
    "with open('merged_data1.1.json') as merged_data:\n",
    "    merged_data_json=json.load(merged_data)"
   ]
  },
  {
   "cell_type": "code",
   "execution_count": 7,
   "metadata": {},
   "outputs": [
    {
     "data": {
      "text/plain": [
       "{'firearms_death_rate': 21.5,\n",
       " 'homicide_rate': 8.3,\n",
       " 'household_size': 2.55,\n",
       " 'median_income': 48486,\n",
       " 'per_capita_income': 26846,\n",
       " 'percent_hs_grad': 85.8,\n",
       " 'state_code,': 'Alabama',\n",
       " 'total_firearm_deaths': 1046}"
      ]
     },
     "execution_count": 7,
     "metadata": {},
     "output_type": "execute_result"
    }
   ],
   "source": [
    "merged_data_json[0]"
   ]
  },
  {
   "cell_type": "code",
   "execution_count": 8,
   "metadata": {},
   "outputs": [
    {
     "name": "stdout",
     "output_type": "stream",
     "text": [
      "{'firearms_death_rate': 21.5, 'homicide_rate': 8.3, 'household_size': 2.55, 'median_income': 48486, 'per_capita_income': 26846, 'percent_hs_grad': 85.8, 'state_code,': 'Alabama', 'total_firearm_deaths': 1046}\n"
     ]
    }
   ],
   "source": [
    "for each_state in merged_data_json: \n",
    "    print(each_state)\n",
    "    break"
   ]
  },
  {
   "cell_type": "code",
   "execution_count": 14,
   "metadata": {},
   "outputs": [],
   "source": [
    "for each_us_state in us_state_json['features']: \n",
    "    for each_state in merged_data_json: \n",
    "        if each_state['state_code,']==each_us_state['properties']['NAME']: \n",
    "            each_us_state['properties']['household_size']=each_state['household_size']"
   ]
  },
  {
   "cell_type": "code",
   "execution_count": 15,
   "metadata": {
    "scrolled": true
   },
   "outputs": [
    {
     "data": {
      "text/plain": [
       "{'GEO_ID': '0400000US25',\n",
       " 'STATE': '25',\n",
       " 'NAME': 'Massachusetts',\n",
       " 'LSAD': '',\n",
       " 'CENSUSAREA': 7800.058,\n",
       " 'household_size': 2.53}"
      ]
     },
     "execution_count": 15,
     "metadata": {},
     "output_type": "execute_result"
    }
   ],
   "source": [
    "us_state_json['features'][1]['properties']"
   ]
  },
  {
   "cell_type": "code",
   "execution_count": null,
   "metadata": {},
   "outputs": [],
   "source": []
  }
 ],
 "metadata": {
  "kernelspec": {
   "display_name": "Python 3",
   "language": "python",
   "name": "python3"
  },
  "language_info": {
   "codemirror_mode": {
    "name": "ipython",
    "version": 3
   },
   "file_extension": ".py",
   "mimetype": "text/x-python",
   "name": "python",
   "nbconvert_exporter": "python",
   "pygments_lexer": "ipython3",
   "version": "3.7.6"
  }
 },
 "nbformat": 4,
 "nbformat_minor": 4
}
